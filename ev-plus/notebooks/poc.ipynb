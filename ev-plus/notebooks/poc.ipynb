{
 "cells": [
  {
   "cell_type": "code",
   "execution_count": 1,
   "metadata": {},
   "outputs": [],
   "source": [
    "import yfinance as yf\n",
    "import pandas as pd\n",
    "import matplotlib.pyplot as plt\n",
    "from datetime import datetime, timedelta\n",
    "import importlib\n",
    "import numpy as np\n",
    "import sys\n",
    "import os\n",
    "\n",
    "sys.path.append(os.path.abspath('../../'))\n",
    "\n",
    "import utils.ml_util\n",
    "importlib.reload(utils.ml_util)\n",
    "from utils.ml_util import *\n",
    "\n",
    "import utils.trading_util\n",
    "importlib.reload(utils.trading_util)\n",
    "from utils.trading_util import *"
   ]
  },
  {
   "cell_type": "code",
   "execution_count": null,
   "metadata": {},
   "outputs": [],
   "source": [
    "symbol = \"AAPL\"\n",
    "ticker = yf.Ticker(symbol)\n",
    "\n",
    "end_date = datetime.now().date()\n",
    "start_date = end_date - timedelta(days=30)\n",
    "\n",
    "date_range = pd.date_range(start=start_date, end=end_date, freq='B')\n",
    "iv_data = []\n",
    "\n",
    "for date in date_range:\n",
    "    iv = get_atm_iv(ticker, date.date())\n",
    "    iv_data.append({'Date': date.date(), 'ImpliedVolatility': iv})\n",
    "\n",
    "iv_df = pd.DataFrame(iv_data)\n",
    "iv_df.set_index('Date', inplace=True)\n",
    "\n",
    "plt.figure(figsize=(12, 6))\n",
    "plt.plot(iv_df.index, iv_df['ImpliedVolatility'])\n",
    "plt.title(f'{symbol} At-the-Money Implied Volatility (Last Month)')\n",
    "plt.xlabel('Date')\n",
    "plt.ylabel('Implied Volatility')\n",
    "plt.grid(True)\n",
    "plt.show()"
   ]
  },
  {
   "cell_type": "code",
   "execution_count": null,
   "metadata": {},
   "outputs": [],
   "source": []
  }
 ],
 "metadata": {
  "kernelspec": {
   "display_name": "quant",
   "language": "python",
   "name": "python3"
  },
  "language_info": {
   "codemirror_mode": {
    "name": "ipython",
    "version": 3
   },
   "file_extension": ".py",
   "mimetype": "text/x-python",
   "name": "python",
   "nbconvert_exporter": "python",
   "pygments_lexer": "ipython3",
   "version": "3.10.16"
  }
 },
 "nbformat": 4,
 "nbformat_minor": 2
}
